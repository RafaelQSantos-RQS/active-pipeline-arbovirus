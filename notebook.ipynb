{
 "cells": [
  {
   "cell_type": "markdown",
   "metadata": {},
   "source": [
    "Preparação dos arquivos"
   ]
  },
  {
   "cell_type": "code",
   "execution_count": 1,
   "metadata": {},
   "outputs": [
    {
     "name": "stderr",
     "output_type": "stream",
     "text": [
      "ERROR:root:O diretório data/landing já existe, nada será feito.\n",
      "ERROR:root:O diretório data/bronze já existe, nada será feito.\n",
      "ERROR:root:O diretório data/silver já existe, nada será feito.\n",
      "ERROR:root:O diretório data/gold já existe, nada será feito.\n"
     ]
    }
   ],
   "source": [
    "from modules.utilities import prepare_data_filesystem\n",
    "\n",
    "prepare_data_filesystem()"
   ]
  },
  {
   "cell_type": "markdown",
   "metadata": {},
   "source": [
    "Etapa Landing (Extraindo a lista de IDs)"
   ]
  },
  {
   "cell_type": "code",
   "execution_count": 2,
   "metadata": {},
   "outputs": [],
   "source": [
    "from modules.etl.extract import landing_step\n",
    "\n",
    "landing_step(database='nucleotide',term='Chikungunya[title]',retmax=1000,datetype=\"pdat\",reldate=60)"
   ]
  },
  {
   "cell_type": "markdown",
   "metadata": {},
   "source": [
    "Etapa bronze (Extraindo as informações dos IDs do XML salvo pela etapa Landing)"
   ]
  },
  {
   "cell_type": "code",
   "execution_count": 3,
   "metadata": {},
   "outputs": [],
   "source": [
    "from modules.etl.transform import bronze_step\n",
    "\n",
    "bronze_step('nucleotide',rettype='xml')"
   ]
  },
  {
   "cell_type": "markdown",
   "metadata": {},
   "source": [
    "Etapa Silver (Das informações dos IDs retirar o que é interessante e jogar em um formato de arquivo mais adequado para manipulação) -> Em testes ainda"
   ]
  },
  {
   "cell_type": "code",
   "execution_count": 4,
   "metadata": {},
   "outputs": [],
   "source": [
    "import xmltodict\n",
    "import pandas as pd\n",
    "\n",
    "with open(\"data/bronze/10-04-2024 (1).xml\",'r') as xml_file:\n",
    "    xml_data = xml_file.read()\n",
    "\n",
    "df = pd.DataFrame(xmltodict.parse(xml_data).get(\"GBSet\").get(\"GBSeq\"))"
   ]
  }
 ],
 "metadata": {
  "kernelspec": {
   "display_name": ".venv",
   "language": "python",
   "name": "python3"
  },
  "language_info": {
   "codemirror_mode": {
    "name": "ipython",
    "version": 3
   },
   "file_extension": ".py",
   "mimetype": "text/x-python",
   "name": "python",
   "nbconvert_exporter": "python",
   "pygments_lexer": "ipython3",
   "version": "3.11.6"
  }
 },
 "nbformat": 4,
 "nbformat_minor": 2
}
