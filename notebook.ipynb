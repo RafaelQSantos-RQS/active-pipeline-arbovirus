{
 "cells": [
  {
   "cell_type": "markdown",
   "metadata": {},
   "source": [
    "Preparação dos arquivos"
   ]
  },
  {
   "cell_type": "code",
   "execution_count": 1,
   "metadata": {},
   "outputs": [],
   "source": [
    "from modules.utilities import prepare_data_filesystem\n",
    "\n",
    "prepare_data_filesystem()"
   ]
  },
  {
   "cell_type": "markdown",
   "metadata": {},
   "source": [
    "Etapa Landing (Extraindo a lista de IDs)"
   ]
  },
  {
   "cell_type": "code",
   "execution_count": 4,
   "metadata": {},
   "outputs": [],
   "source": [
    "from modules.etl import Landing\n",
    "\n",
    "Landing.full_process(database='nucleotide',term='Chikungunya',retmax=1000,datetype=\"pdat\",reldate=60)"
   ]
  },
  {
   "cell_type": "markdown",
   "metadata": {},
   "source": [
    "Etapa bronze (Extraindo as informações dos IDs do XML salvo pela etapa Landing)"
   ]
  },
  {
   "cell_type": "code",
   "execution_count": 5,
   "metadata": {},
   "outputs": [],
   "source": [
    "from modules.etl import Bronze\n",
    "\n",
    "Bronze.full_process('nucleotide',rettype='gbc',retmode='xml')"
   ]
  },
  {
   "cell_type": "markdown",
   "metadata": {},
   "source": [
    "Etapa Silver (Das informações dos IDs retirar o que é interessante e jogar em um formato de arquivo mais adequado para manipulação) -> Em testes ainda"
   ]
  },
  {
   "cell_type": "code",
   "execution_count": 1,
   "metadata": {},
   "outputs": [],
   "source": [
    "import os\n",
    "import xmltodict\n",
    "import pandas as pd\n",
    "from datetime import datetime\n",
    "from modules.pubmed import extract_pmcid_from_list\n",
    "from modules.utilities import extract_pubmed_list, extract_country, extract_collection_date\n",
    "\n",
    "bronze_path = 'data/bronze'\n",
    "lista_de_xmls = [os.path.join(bronze_path,file) for file in os.listdir(bronze_path)]\n",
    "\n",
    "full_df = pd.DataFrame()\n",
    "for xml in lista_de_xmls:\n",
    "    with open(xml,'r') as xml_file:\n",
    "        xml_data = xml_file.read()\n",
    "    full_df = pd.concat([full_df,pd.DataFrame(xmltodict.parse(xml_data).get('INSDSet').get('INSDSeq'))],ignore_index=True)"
   ]
  },
  {
   "cell_type": "code",
   "execution_count": 2,
   "metadata": {},
   "outputs": [],
   "source": [
    "# Filtrando colunas\n",
    "full_df = full_df[['INSDSeq_locus','INSDSeq_length','INSDSeq_update-date','INSDSeq_create-date','INSDSeq_references','INSDSeq_feature-table','INSDSeq_sequence']]\n",
    "\n",
    "# Renomeando colunas\n",
    "colunas_a_serem_renomeadas = {\n",
    "    'INSDSeq_locus': 'locus',\n",
    "    'INSDSeq_length':'length',\n",
    "    'INSDSeq_update-date': 'update_date',\n",
    "    'INSDSeq_create-date': 'create_date',\n",
    "    'INSDSeq_sequence':'sequence'\n",
    "    }\n",
    "full_df = full_df.rename(columns=colunas_a_serem_renomeadas) \n",
    "\n",
    "# Alterar tipo das colunas\n",
    "colunas_a_serem_convertidas = {\n",
    "    'length': 'int64',\n",
    "    'update_date':'datetime64[ns]',\n",
    "    'create_date':'datetime64[ns]'\n",
    "    }\n",
    "full_df = full_df.astype(colunas_a_serem_convertidas)\n",
    "\n",
    "# Extraindo os pubmeds\n",
    "column = 'INSDSeq_references'\n",
    "full_df['pubmed'] = full_df[column].apply(lambda x: extract_pubmed_list(cell=x))\n",
    "full_df.drop(columns=column,inplace=True)\n",
    "\n",
    "# Extraindo os countrys e data de coleta\n",
    "column = 'INSDSeq_feature-table'\n",
    "full_df['country'] = full_df[column].apply(lambda x: extract_country(cell=x)) \n",
    "full_df['collection_date'] = full_df['INSDSeq_feature-table'].apply(lambda x: extract_collection_date(cell=x))\n",
    "full_df.drop(columns=column, inplace=True)\n",
    "\n",
    "# Explodindo a coluna pubmed\n",
    "full_df = full_df.explode(column='pubmed')\n",
    "\n",
    "# Extrai os PMCID para todos os números Pubmed em paralelo\n",
    "list_of_pubmeds = full_df['pubmed'].drop_duplicates().dropna().tolist()\n",
    "pmcid_results = extract_pmcid_from_list(list_of_pubmed=list_of_pubmeds, number_of_webscrappers=4)\n",
    "\n",
    "# Cria um dicionário a partir dos resultados\n",
    "pmcid_dict = {temp_dict['pubmed_accession_number']: temp_dict['pmcid'] for temp_dict in pmcid_results}\n",
    "\n",
    "# Mapeia os PMCID de volta para o DataFrame\n",
    "full_df['pmcid'] = full_df['pubmed'].map(pmcid_dict)"
   ]
  }
 ],
 "metadata": {
  "kernelspec": {
   "display_name": ".venv",
   "language": "python",
   "name": "python3"
  },
  "language_info": {
   "codemirror_mode": {
    "name": "ipython",
    "version": 3
   },
   "file_extension": ".py",
   "mimetype": "text/x-python",
   "name": "python",
   "nbconvert_exporter": "python",
   "pygments_lexer": "ipython3",
   "version": "3.11.6"
  }
 },
 "nbformat": 4,
 "nbformat_minor": 2
}
